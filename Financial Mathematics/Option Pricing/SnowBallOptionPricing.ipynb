{
 "cells": [
  {
   "cell_type": "markdown",
   "id": "66e6b4ca-5cc6-4ed7-9943-a07fc2675a42",
   "metadata": {},
   "source": [
    "# Nemerical Method for Pricing Barrier Options"
   ]
  },
  {
   "cell_type": "markdown",
   "id": "db20d03a-9777-48da-924f-24e55c79bde3",
   "metadata": {},
   "source": [
    "## Monte Carlo Simulation"
   ]
  },
  {
   "cell_type": "markdown",
   "id": "3f38b2f1-4f85-495f-aa82-b28fa096d115",
   "metadata": {},
   "source": [
    "#### As a reminder\n",
    "$$ S_{t+\\Delta t} = S_t \\exp \\left[ \\left( \\mu - \\frac{\\sigma ^2}{2} \\right) \\Delta t + \\sigma \\epsilon \\sqrt{\\Delta t} \\right]$$"
   ]
  },
  {
   "cell_type": "code",
   "execution_count": 50,
   "id": "55a7238d-8da0-4f94-80e5-dd770c165d57",
   "metadata": {},
   "outputs": [],
   "source": [
    "import numpy as np\n",
    "import pandas as pd\n",
    "np.random.seed(0)"
   ]
  },
  {
   "cell_type": "code",
   "execution_count": 51,
   "id": "eb962df6-cabf-4098-bdf8-cabe7d464276",
   "metadata": {},
   "outputs": [],
   "source": [
    "steps = 252 # Number of steps excluding the initial day\n",
    "T = 1\n",
    "r = 0.03\n",
    "q = 0\n",
    "sig = 0.13\n",
    "simulations = 100000\n",
    "\n",
    "S = 1\n",
    "B2 = 1.03 * S # Upperbound for strike-out\n",
    "B1 = 0.8 * S # Lowerbound for strike-in\n",
    "strike_out_interest = 0.2\n",
    "div_payment = 0.2 # Dividend payment (Annual)"
   ]
  },
  {
   "cell_type": "code",
   "execution_count": 52,
   "id": "c9ceeeb9-ccd5-4d6f-9ee7-3a64bb49bd77",
   "metadata": {},
   "outputs": [],
   "source": [
    "def MC_path(S, T, r, q, sig, steps, simulations):\n",
    "    delta_t = T/steps\n",
    "    price = np.zeros((steps + 1, simulations)) # Including the initial price\n",
    "    price[0] = S\n",
    "    for i in range(1, steps + 1):\n",
    "        z = np.random.standard_normal(simulations) # N times of sample epsilon~N(0, 1), where N=simulations\n",
    "        price[i] = price[i - 1] * np.exp(((r-q) - 0.5 * sig **2) * delta_t + sig * np.sqrt(delta_t) * z)\n",
    "    return price.T\n",
    "\n",
    "\n",
    "def MC_pricing(path, B1, B2, strike_out_interest, div_payment, r):\n",
    "    value = None\n",
    "    down_flag = False\n",
    "    up_flag = False\n",
    "    days = np.arange(0, path.shape[0], 1)\n",
    "\n",
    "    up_B2 = (path >= B2)\n",
    "    strike_out_observe = (days % 21 == 0)\n",
    "    strike_out_days = days[up_B2 * strike_out_observe] # On strike-out observation day & strike-out\n",
    "    strike_in_days = days[path < B1]\n",
    "\n",
    "    up_flag = len(strike_out_days) > 0 \n",
    "    down_flag = len(strike_in_days) > 0\n",
    "    # Once strike-out on observation day, the option ceases\n",
    "    if up_flag: \n",
    "        end_day = strike_out_days[0] # The first observed strike-out day\n",
    "        value = strike_out_interest * (end_day / 252) * np.exp(-r*end_day / 252)\n",
    "    # No strike-out on oberservation days and ever strike-in\n",
    "    elif len(strike_out_days) == 0 and len(strike_in_days) > 0: \n",
    "        end_day = 252\n",
    "        if path[-1] < path[0]:\n",
    "            value = (path[-1] - path[0]) * np.exp(-r*end_day/252)\n",
    "        else:\n",
    "            value = 0\n",
    "    elif len(strike_out_days) == 0 and len(strike_in_days) == 0: # Never strike-in or strike-out\n",
    "        end_day = 252\n",
    "        value = div_payment * (end_day / 252) * np.exp(-r*end_day / 252)\n",
    "    return value"
   ]
  },
  {
   "cell_type": "code",
   "execution_count": 53,
   "id": "a8e74685-e8fd-4d63-8c01-17d4dfc4581b",
   "metadata": {},
   "outputs": [
    {
     "name": "stdout",
     "output_type": "stream",
     "text": [
      "0.07369910838725921\n"
     ]
    }
   ],
   "source": [
    "paths = MC_path(S, T, r, q, sig, steps, simulations)\n",
    "value_list = []\n",
    "for i in range(len(paths)):\n",
    "    path = paths[i]\n",
    "    value = MC_pricing(path, B1, B2, strike_out_interest, div_payment, r)\n",
    "    value_list.append(value)\n",
    "print(np.mean(value_list))"
   ]
  },
  {
   "cell_type": "markdown",
   "id": "aa596a0e-ac06-4483-bd9e-18f66dd52b67",
   "metadata": {},
   "source": [
    "## Finite Difference Method"
   ]
  },
  {
   "cell_type": "markdown",
   "id": "66ba668c-dd14-4bbc-bd18-7a76c52c0d7d",
   "metadata": {},
   "source": [
    "#### An overview of the Crank-Nicholson method is presented as the following, yet the other two methods would be also included in the algorithm."
   ]
  },
  {
   "cell_type": "markdown",
   "id": "708055f4-1f45-4686-89f3-84037a4873ce",
   "metadata": {
    "jp-MarkdownHeadingCollapsed": true
   },
   "source": [
    "#### Crank-Nicolson method is more stable than the explicit method and quickly converges to the solution.\n",
    "#### Derivative terms thus become\n",
    "$$\\frac{\\partial f}{\\partial S_t} = \\frac{f_{i, j+1} - f_{i, j-1}}{2 \\Delta S_t} \\Rightarrow \\frac{\\partial f}{\\partial S_t} \\approx \\frac{1}{2} \\left( \\frac{f_{i+1, j+1} - f_{i+1, j-1}}{2\\Delta S_t} + \\frac{f_{i, j+1} - f_{i, j-1}}{2\\Delta S_t}\\right)$$\n",
    "$$\\frac{\\partial^2 f}{\\partial S_t^2} = \\frac{f_{i, j+1} - 2f_{i, j} + f_{i, j-1}}{\\Delta S_t ^2} \\Rightarrow \\frac{\\partial^2 f}{\\partial S_t^2} \\approx \\frac{1}{2} \\left( \\frac{f_{i+1, j+1} + f_{i+1, j-1} - 2f_{i+1, j}}{\\Delta S_t^2} + \\frac{f_{i, j+1} + f_{i, j-1} - 2f_{i, j}}{\\Delta S_t^2}\\right)$$"
   ]
  },
  {
   "cell_type": "markdown",
   "id": "91a7b438-f31d-4094-9561-0d97bcdb6ed0",
   "metadata": {},
   "source": [
    "#### The equation is thus simplified to \n",
    "$$-\\alpha_j f_{i, j-1} + (1-\\beta_j)f_{i, j} - \\gamma_j f_{i, j+1} = \\alpha_j f_{i+1, j-1} + (1+\\beta_j)f_{i+1, j} + \\gamma_j f_{i+1, j+1}$$\n",
    "#### where\n",
    "$$\\alpha_j = \\frac{\\Delta t}{4}(\\sigma^2j^2 - rj)$$\n",
    "$$\\beta_j = -\\frac{\\Delta t}{2}(\\sigma^2j^2 + r)$$\n",
    "$$\\gamma_j = \\frac{\\Delta t}{4}(\\sigma^2j^2 + rj)$$"
   ]
  },
  {
   "cell_type": "markdown",
   "id": "0a189886-67d9-4d67-a82c-7f57b49512ec",
   "metadata": {},
   "source": [
    "#### The matrix form thus become\n",
    "$$M_1f_i = M_2f_{i+1} + b$$\n",
    "#### where $f_i$ and $b$ are vectors of length $M-1$\n",
    "$$f_i = \\left[f_{i, 1}, f_{i, 2}, ..., f_{i, M-1}\\right]^T$$\n",
    "$$b = \\left[\\alpha_1(f_{i, 0} + f_{i+1, 0}, 0, ..., 0, \\gamma_{M-1}(f_{i, M} + f_{i+1, M})\\right]^T$$\n",
    "#### and $M_1$, $M_2$ are matrix of dimensions $(M-1) \\times (M-2)$.\n",
    "$$ M_1 = \\begin{bmatrix}\n",
    "1-\\beta_1 & -\\gamma_1 & 0 & ... & 0 \\\\\n",
    "-\\alpha_2 & 1-\\beta_2 & -\\gamma_2 & ... & 0 \\\\\n",
    "0 & -\\alpha 3 & ... & ... & ... \\\\\n",
    "... & ... & ... & 1-\\beta_{M-2} & -\\gamma_{M-2} \\\\\n",
    "0 & 0 & ... & -\\alpha_{M-1} & 1-\\beta_{M-1} \n",
    "\\end{bmatrix}  $$\n",
    "$$ M_2 = \\begin{bmatrix}\n",
    "1+\\beta_1 & \\gamma_1 & 0 & ... & 0 \\\\\n",
    "\\alpha_2 & 1+\\beta_2 & \\gamma_2 & ... & 0 \\\\\n",
    "0 & \\alpha 3 & ... & ... & ... \\\\\n",
    "... & ... & ... & 1+\\beta_{M-2} & \\gamma_{M-2} \\\\\n",
    "0 & 0 & ... & \\alpha_{M-1} & 1+\\beta_{M-1} \n",
    "\\end{bmatrix}  $$\n",
    "#### Thus, the iteration becomes\n",
    "$$f_i = M_1^{-1}M_2f_{i+1} + M_1^{-1}b$$"
   ]
  },
  {
   "cell_type": "markdown",
   "id": "52915ac4-95f5-4675-afaf-989bf75c399e",
   "metadata": {},
   "source": [
    "#### We may break down a barrier option (Snowball) into a combinations of four types of distinct barrier options: \n",
    "#### an Up-and-In Option, a Double Knock-Out Option, an Up-and-Out Put Option, and a Double Knock-Out Option, \n",
    "#### denoting them as OTU, DNT, DKOP, and UOP. \n",
    "#### Then, the price of a complex barrier option can be expressed as an arithmetic operation: OTU + DNT + DKOP - UOP."
   ]
  },
  {
   "cell_type": "markdown",
   "id": "ccbe13c6-dfbe-4cd5-9342-943b8028f20c",
   "metadata": {},
   "source": [
    "### OTU"
   ]
  },
  {
   "cell_type": "markdown",
   "id": "40245504-643e-4931-a842-227ad3b7a950",
   "metadata": {},
   "source": [
    "Such options take effect when the price of the underlying asset touches or exceeds a preset high threshold. In \n",
    "Snowball bonds, if the price of basic assets rises to a certain level, additional payments or more favorable return conditions are activated."
   ]
  },
  {
   "cell_type": "markdown",
   "id": "2f7d4733-37e9-4b49-a05d-ada46ccb72d6",
   "metadata": {},
   "source": [
    "#### First define relevant paramters"
   ]
  },
  {
   "cell_type": "code",
   "execution_count": 2,
   "id": "b18b5f5a-c9c8-44f9-bc31-6a1008a3dc8c",
   "metadata": {},
   "outputs": [],
   "source": [
    "M = 500 # Grid Numbers\n",
    "N = 252 # Time Steps\n",
    "\n",
    "S0 = 1 # Base Price\n",
    "SU = 1.03 # Strike-Out Bound\n",
    "SD = 0.85 # Strike-In Bound\n",
    "\n",
    "time = 1 # Total Time to Maturity (One Year)\n",
    "delta_t = time / N\n",
    "delta_s = S0 / M\n",
    "price_array = np.linspace(0, M*delta_s, M+1)\n",
    "time_array = np.inspace(0, N*delta_t, N+1)\n",
    "time_to_maturity = time_array[-1]  - time_array\n",
    "\n",
    "sigma = 0.13 # Volatility\n",
    "r = 0.03 # Risk-Free Rate\n",
    "b = 0.03 \n",
    "Div = 0.20 # Dividend Payment Rate\n",
    "\n",
    "strike_out_days = np.arange(21, time*252+1, 21) # Days for Strike-Out Observation"
   ]
  },
  {
   "cell_type": "code",
   "execution_count": 12,
   "id": "d27c28db-5167-43dd-a000-2a0c10bc76bd",
   "metadata": {},
   "outputs": [
    {
     "ename": "SyntaxError",
     "evalue": "incomplete input (3258688888.py, line 53)",
     "output_type": "error",
     "traceback": [
      "\u001b[0;36m  Cell \u001b[0;32mIn[12], line 53\u001b[0;36m\u001b[0m\n\u001b[0;31m    KO = np.where(price_array\u001b[0m\n\u001b[0m                             ^\u001b[0m\n\u001b[0;31mSyntaxError\u001b[0m\u001b[0;31m:\u001b[0m incomplete input\n"
     ]
    }
   ],
   "source": [
    "def get_diff(j, sig=0.4):\n",
    "    discount = \n",
    "    a = -0.25 * rjt + 0.25 * sigma2j2t\n",
    "    b = -0.5 * (self.r-self.q) * self.delta_T - 0.5 * sigma2j2t\n",
    "    c = 0.25 * rjt + 0.25 * sigma2j2t\n",
    "return a, b, c\n",
    "    \n",
    "\n",
    "def gen_matrix(SD_idx, M, a, b, c):\n",
    "    a_m_1 = [a(i) for i in range(Sd_idx + 2,Sd_idx + M)]\n",
    "    b_m_1 = [b(i) for i in range(Sd_idx + 1,Sd_idx + M)]\n",
    "    c_m_1 = [c(i) for i in range(Sd_idx + 1,Sd_idx+ M-1)]\n",
    "    diag_matrix = np.diag(a_m_1,-1) + np.diag(b_m_1,0) + np.diag(c_m_1,1)\n",
    "    return diag_matrix\n",
    "\n",
    "\n",
    "def calculate_OTU(S0, time, sigma, r, b, M, N, SU, Div):\n",
    "    matrix = np.zeros(((int(SU/ds) * 3) + 1, N+1)) \n",
    "    KO = np.where(price_array"
   ]
  },
  {
   "cell_type": "code",
   "execution_count": 7,
   "id": "4393c984-7fd8-4595-baa3-f4780bbf74d8",
   "metadata": {},
   "outputs": [
    {
     "ename": "NameError",
     "evalue": "name 'delta_t' is not defined",
     "output_type": "error",
     "traceback": [
      "\u001b[0;31m---------------------------------------------------------------------------\u001b[0m",
      "\u001b[0;31mNameError\u001b[0m                                 Traceback (most recent call last)",
      "Cell \u001b[0;32mIn[7], line 1\u001b[0m\n\u001b[0;32m----> 1\u001b[0m a, b, c \u001b[38;5;241m=\u001b[39m \u001b[43mget_diff\u001b[49m\u001b[43m(\u001b[49m\u001b[38;5;241;43m3\u001b[39;49m\u001b[43m)\u001b[49m\n\u001b[1;32m      2\u001b[0m gen_matrix(\u001b[38;5;241m0\u001b[39m, M, a, b, c)\n",
      "Cell \u001b[0;32mIn[6], line 3\u001b[0m, in \u001b[0;36mget_diff\u001b[0;34m(j, sig)\u001b[0m\n\u001b[1;32m      1\u001b[0m \u001b[38;5;28;01mdef\u001b[39;00m \u001b[38;5;21mget_diff\u001b[39m(j, sig\u001b[38;5;241m=\u001b[39m\u001b[38;5;241m0.4\u001b[39m):\n\u001b[1;32m      2\u001b[0m     sig_j_square \u001b[38;5;241m=\u001b[39m (sig \u001b[38;5;241m*\u001b[39m j) \u001b[38;5;241m*\u001b[39m\u001b[38;5;241m*\u001b[39m\u001b[38;5;241m2\u001b[39m \u001b[38;5;66;03m#Here we have (sigma^2 * j^2)\u001b[39;00m\n\u001b[0;32m----> 3\u001b[0m     a \u001b[38;5;241m=\u001b[39m (\u001b[43mdelta_t\u001b[49m \u001b[38;5;241m/\u001b[39m \u001b[38;5;241m4\u001b[39m) \u001b[38;5;241m*\u001b[39m (sig_j_square \u001b[38;5;241m-\u001b[39m r\u001b[38;5;241m*\u001b[39mj)\n\u001b[1;32m      4\u001b[0m     b \u001b[38;5;241m=\u001b[39m (\u001b[38;5;241m-\u001b[39mdelta_t \u001b[38;5;241m/\u001b[39m \u001b[38;5;241m2\u001b[39m) \u001b[38;5;241m*\u001b[39m (sig_j_square \u001b[38;5;241m+\u001b[39m r)\n\u001b[1;32m      5\u001b[0m     c \u001b[38;5;241m=\u001b[39m (delta_t \u001b[38;5;241m/\u001b[39m \u001b[38;5;241m4\u001b[39m) \u001b[38;5;241m*\u001b[39m (sig_j_square \u001b[38;5;241m+\u001b[39m r\u001b[38;5;241m*\u001b[39mj)\n",
      "\u001b[0;31mNameError\u001b[0m: name 'delta_t' is not defined"
     ]
    }
   ],
   "source": [
    "a, b, c = get_diff(3)\n",
    "gen_matrix(0, M, a, b, c)"
   ]
  },
  {
   "cell_type": "code",
   "execution_count": 9,
   "id": "d8f76197-8cb0-4541-a9f9-bef312df1569",
   "metadata": {},
   "outputs": [],
   "source": [
    "def num(method):\n",
    "    if method == '3':\n",
    "        return 3\n",
    "    else:\n",
    "        return 5"
   ]
  }
 ],
 "metadata": {
  "kernelspec": {
   "display_name": "Python 3 (ipykernel)",
   "language": "python",
   "name": "python3"
  },
  "language_info": {
   "codemirror_mode": {
    "name": "ipython",
    "version": 3
   },
   "file_extension": ".py",
   "mimetype": "text/x-python",
   "name": "python",
   "nbconvert_exporter": "python",
   "pygments_lexer": "ipython3",
   "version": "3.12.2"
  }
 },
 "nbformat": 4,
 "nbformat_minor": 5
}
