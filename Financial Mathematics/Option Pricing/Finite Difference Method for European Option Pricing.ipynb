{
 "cells": [
  {
   "cell_type": "markdown",
   "id": "efdb0bd1-3799-48f7-878b-67070a4fbc47",
   "metadata": {},
   "source": [
    "# Basic Numerical Methods for Option Pricing Approximation"
   ]
  },
  {
   "cell_type": "markdown",
   "id": "d4e58c2a-70e8-47be-adcb-75e2d106db7c",
   "metadata": {},
   "source": [
    "## Implicit Finite-Difference Method"
   ]
  },
  {
   "cell_type": "markdown",
   "id": "2c80dd89-69a0-425d-a0f7-e91a9810ebe6",
   "metadata": {},
   "source": [
    "#### We assume a call option as the following:\n",
    "$$Call = f(S_t, t)$$"
   ]
  },
  {
   "cell_type": "markdown",
   "id": "911a0ee3-7e9e-4952-a4d7-3013a19b2785",
   "metadata": {},
   "source": [
    "#### Expand it with Taylor series:\n",
    "$$\\Delta f = \\frac{\\partial f}{\\partial S_t}\\Delta S_t + \\frac{\\partial f}{\\partial t}\\Delta t + \\frac{\\partial^2 f}{2\\partial S_t^2}\\Delta S^2_t + \\frac{\\partial^2 f}{2\\partial t^2}\\Delta t^2 +\n",
    "\\frac{\\partial^2 f}{2\\partial S_t \\partial t}\\Delta S_t \\Delta t + ...$$\n"
   ]
  },
  {
   "cell_type": "markdown",
   "id": "0aa00dac-7984-495f-9d32-4526f5bb0af2",
   "metadata": {},
   "source": [
    "#### Note that the movement of the stock price on which the option depends follows a generalized Wiener process:\n",
    "$$\\Delta S_t = \\mu S_t \\Delta t + \\sigma S_t \\Delta z$$\n",
    "$$\\Delta z = \\epsilon \\sqrt{\\Delta t},  \\, \\, \\, \\epsilon ~ N(0, 1)$$"
   ]
  },
  {
   "cell_type": "markdown",
   "id": "e0f33590-96fe-4343-a933-319c721aa1f7",
   "metadata": {},
   "source": [
    "#### Taking out higher terms of derivatives $\\Delta t$, we get:\n",
    "$$\\Delta f = \\frac{\\partial f}{\\partial S_t} * (\\mu S_t \\Delta t + \\sigma S_t \\Delta z) + \\frac{\\partial f}{\\partial t}\\Delta t + \\frac{\\partial^2 f}{2\\partial S_t^2} S^2_t \\sigma ^2 \\Delta t$$\n",
    "$$= (\\frac{\\partial f}{\\partial t} + \\frac{\\partial f}{\\partial S_t} * \\mu S_t + \\frac{\\partial^2 f}{2\\partial S_t^2} S^2_t \\sigma ^2) * \\Delta t + \\frac{\\partial f}{\\partial S_t}S_t\\sigma \\Delta z $$"
   ]
  },
  {
   "cell_type": "markdown",
   "id": "28a47fb7-3982-4872-bfca-e0bcc277f60b",
   "metadata": {},
   "source": [
    "#### Building Portfolios $\\prod$ by shorting one derivative and long an amount of $\\frac{\\partial f}{\\partial S_t}$ of shares:\n",
    "$$\\prod = -1 * f + (\\frac{\\partial f}{\\partial S_t}) * S_t; \\,\\,\\,\\,\\,\\, \\Delta \\prod = -\\Delta f + (\\frac{\\partial f}{\\partial S_t}) \\Delta S_t$$\n",
    "#### which equals to,\n",
    "$$\\Delta \\prod = -(\\frac{\\partial f}{\\partial t} + \\frac{\\partial f}{\\partial S_t} * \\mu S_t + \\frac{\\partial^2 f}{2\\partial S_t^2} S^2_t \\sigma ^2) * \\Delta t - \\frac{\\partial f}{\\partial S_t}S_t\\sigma \\Delta z + (\\frac{\\partial f}{\\partial S_t})(\\mu S_t \\Delta t + \\sigma S_t \\Delta z)$$"
   ]
  },
  {
   "cell_type": "markdown",
   "id": "837c0f41-8f36-43f7-b957-bb8295efcb36",
   "metadata": {},
   "source": [
    "#### The elimination of the volatility terms $\\Delta z$ corresponds to the riskless nature of the portfolio we built:\n",
    "$$-\\frac{\\partial f}{\\partial S_t}S_t \\sigma \\Delta z + (\\frac{\\partial f}{\\partial S_t}) S_t \\sigma \\Delta z = 0$$"
   ]
  },
  {
   "cell_type": "markdown",
   "id": "5aaa4125-1ee7-41cf-bcf2-3b155b9512f6",
   "metadata": {},
   "source": [
    "#### Therefore, we can simplify the expression of $\\Delta \\prod$ as:\n",
    "$$\\Delta \\prod = -(\\frac{\\partial f}{\\partial t} + \\frac{\\partial f}{\\partial S_t} * \\mu S_t + \\frac{\\partial^2 f}{2\\partial S_t^2} S^2_t \\sigma ^2 - \\frac{\\partial f}{\\partial S_t}\\mu S_t) \\Delta t$$\n",
    "$$=(-\\frac{\\partial f}{\\partial t} - \\frac{\\partial^2 f}{2\\partial S_t^2} S^2_t \\sigma ^2 )\\Delta t$$\n"
   ]
  },
  {
   "cell_type": "markdown",
   "id": "c309d5d1-4c46-47f1-8dbe-3dabdea199ab",
   "metadata": {},
   "source": [
    "#### Considering the risklessness of the portfolio, it then follows that $\\Delta \\prod = r \\prod \\Delta t$:\n",
    "$$\\frac{\\partial f}{\\partial t} + \\frac{\\partial^2 f}{2\\partial S_t^2} S^2_t \\sigma ^2 = r(f - \\frac{\\partial f}{\\partial S_t} * S_t)$$"
   ]
  },
  {
   "cell_type": "markdown",
   "id": "aa4a542c-48c6-4c5c-8fea-507b85c4ba42",
   "metadata": {},
   "source": [
    "#### Therefore, we arrived at our desired equation:\n",
    "$$\\frac{\\partial f}{\\partial t} + (r-q)S_t\\frac{\\partial f}{\\partial S_t} + \\frac{1}{2}S^2_t \\sigma ^2\\frac{\\partial^2 f}{\\partial S_t^2}  = rf$$\n",
    "#### where q is the dividend yield paid by the stock."
   ]
  },
  {
   "cell_type": "markdown",
   "id": "895c39d0-c081-47d5-8975-c53c0242e307",
   "metadata": {},
   "source": [
    "#### Now we employ the finite difference method to solve this partial differential equation"
   ]
  },
  {
   "cell_type": "markdown",
   "id": "b4295496-ddc9-479c-921e-dbd31afeb53c",
   "metadata": {},
   "source": [
    "#### From book $Options, Futures, and \\, Other \\, Deriatives$ by John C. Hull, we have the implicit form, in non-dividend cases:\n",
    "$$\\frac{f_{i+1, j} - f_{i,j}}{\\Delta t} + rj \\Delta S_t \\frac{f_{i, j+1} - f_{i, j-1}}{2\\Delta S_t} + \\frac{1}{2} (\\sigma j)^2 \\Delta S_t^2 \\frac{f_{i, j+1} + f_{i, j-1} - 2f_{i, j}}{\\Delta S_t^2} = rf_{i, j}$$"
   ]
  },
  {
   "cell_type": "markdown",
   "id": "03d9d54e-55f8-4a4e-8570-8568f02c8d8b",
   "metadata": {},
   "source": [
    "#### Simplify the expresison by forward approximation:\n",
    "$$f_{i+1, j} = a_j f_{i,j-1} + b_j f_{i, j} + c_j f_{i, j+1}$$\n",
    "#### where\n",
    "$$a_j =  \\frac{1}{2} \\Delta t (r*j - \\sigma ^2 j^2) $$\n",
    "$$b_j = 1 + \\Delta t(\\sigma ^2 j^2 + r) $$\n",
    "$$c_j = -\\frac{1}{2}\\Delta t (r*j + \\sigma ^2 j^2)$$"
   ]
  },
  {
   "cell_type": "markdown",
   "id": "5adc66a0-ba05-4c46-85ff-c671de5e5235",
   "metadata": {},
   "source": [
    "#### Thus, we have the forward approximation in matrix form as:\n",
    "$$F_{i+1} = BF_{i}$$\n",
    "$$F_{i} = B^{-1}F_{i+1}$$\n",
    "#### where\n",
    "$$ F_i = \\begin{bmatrix}\n",
    "f_{i,1} \\\\\n",
    "f_{i,2} \\\\\n",
    "... \\\\\n",
    "... \\\\\n",
    "f_{i,M-1} \n",
    "\\end{bmatrix}  $$\n",
    "$$ B = \\begin{bmatrix}\n",
    "b_1 & c_1 & 0 & ... & ... \\\\\n",
    "a_2 & b_2 & c_2 & ... & ... \\\\\n",
    "0 & a_3 & b_3 & c_3 & ... \\\\\n",
    "... & ... & ... & b_{M-2} & c_{M-2} \\\\\n",
    "0 & 0 & ... & a_{M-1} & b_{M-1} \n",
    "\\end{bmatrix}  $$"
   ]
  },
  {
   "cell_type": "markdown",
   "id": "05eaf87c-7c1e-457f-8ce1-c0be104036d8",
   "metadata": {},
   "source": [
    "#### We shall first construct the grid in matrix form"
   ]
  },
  {
   "cell_type": "code",
   "execution_count": 97,
   "id": "9ca92ffc-4493-4256-8b64-87caf025da44",
   "metadata": {},
   "outputs": [],
   "source": [
    "import numpy as np\n",
    "import matplotlib.pyplot as plt\n",
    "from random import gauss\n",
    "from tqdm import tqdm"
   ]
  },
  {
   "cell_type": "code",
   "execution_count": 86,
   "id": "48350c9f-99f4-48da-92dc-63566654d5c0",
   "metadata": {},
   "outputs": [],
   "source": [
    "M = 5000 # Grid number for finite difference\n",
    "K = 230 # Strike price\n",
    "S = 276.1 # Assume the current price to be S_0\n",
    "S_max = 500 # The level S_max is chosen so that one of these is the current stock price.\n",
    "T = 58 / 365 # Time to maturity of the option\n",
    "r = 0.16 / 100 # The continuously compounded risk-free rate\n",
    "q = 0 # Assume a non-dividend case\n",
    "delta_s = S_max / M #Defining the subinterval on the axes of price [0, S_max]\n",
    "delta_t = T / M #Defining the subinterval on the axes of time [0, T]\n",
    "sig = 0.407530933 # Stock price volatility"
   ]
  },
  {
   "cell_type": "code",
   "execution_count": 87,
   "id": "8a2b0145-fd80-4229-be62-fec895023f2d",
   "metadata": {},
   "outputs": [],
   "source": [
    "def get_call(M, K, delta_s):\n",
    "    call_matrix = np.matrix(np.array([0.0]*(M+1)*(M+1)).reshape((M+1, M+1)))\n",
    "    call_matrix[:, 0] = 0\n",
    "    call_matrix[:, M] = float(S_max - K)\n",
    "    for i in range(M+1):\n",
    "        call_matrix[M, i] = float(max(delta_s * i - K, 0))\n",
    "    return call_matrix\n",
    "\n",
    "def get_put(M, K, delta_s):\n",
    "    put_matrix = np.matrix(np.array([0.0]*(M+1)*(M+1)).reshape((M+1, M+1)))\n",
    "    put_matrix[:, 0] = float(K)\n",
    "    put_matrix[:, M] = 0\n",
    "    for i in range(M+1):\n",
    "        put_matrix[M, i] = float(max(K - delta_s * i, 0))\n",
    "    return put_matrix"
   ]
  },
  {
   "cell_type": "code",
   "execution_count": 88,
   "id": "30e0669e-f8c5-4879-9865-56469b0012a7",
   "metadata": {},
   "outputs": [
    {
     "data": {
      "text/plain": [
       "matrix([[  0. ,   0. ,   0. , ...,   0. ,   0. , 270. ],\n",
       "        [  0. ,   0. ,   0. , ...,   0. ,   0. , 270. ],\n",
       "        [  0. ,   0. ,   0. , ...,   0. ,   0. , 270. ],\n",
       "        ...,\n",
       "        [  0. ,   0. ,   0. , ...,   0. ,   0. , 270. ],\n",
       "        [  0. ,   0. ,   0. , ...,   0. ,   0. , 270. ],\n",
       "        [  0. ,   0. ,   0. , ..., 269.8, 269.9, 270. ]])"
      ]
     },
     "execution_count": 88,
     "metadata": {},
     "output_type": "execute_result"
    }
   ],
   "source": [
    "get_call(M, K, delta_s)"
   ]
  },
  {
   "cell_type": "code",
   "execution_count": 89,
   "id": "50d277bf-26ad-48f8-be57-a45b8c36dc28",
   "metadata": {},
   "outputs": [
    {
     "data": {
      "text/plain": [
       "matrix([[230. ,   0. ,   0. , ...,   0. ,   0. ,   0. ],\n",
       "        [230. ,   0. ,   0. , ...,   0. ,   0. ,   0. ],\n",
       "        [230. ,   0. ,   0. , ...,   0. ,   0. ,   0. ],\n",
       "        ...,\n",
       "        [230. ,   0. ,   0. , ...,   0. ,   0. ,   0. ],\n",
       "        [230. ,   0. ,   0. , ...,   0. ,   0. ,   0. ],\n",
       "        [230. , 229.9, 229.8, ...,   0. ,   0. ,   0. ]])"
      ]
     },
     "execution_count": 89,
     "metadata": {},
     "output_type": "execute_result"
    }
   ],
   "source": [
    "get_put(M, K, delta_s)"
   ]
  },
  {
   "cell_type": "markdown",
   "id": "bf9071ae-2724-4d29-9b44-79f085a0a7ff",
   "metadata": {},
   "source": [
    "#### To solve the matrix equation, we shall first calculate the coefficient matrix B"
   ]
  },
  {
   "cell_type": "code",
   "execution_count": 90,
   "id": "0c369b25-7d75-419d-9ced-4864d90e5728",
   "metadata": {},
   "outputs": [],
   "source": [
    "def get_diff(j, sig=0.4):\n",
    "    sig_j_square = (sig * j) **2 #Here we have (sigma^2 * j^2)\n",
    "    a = 0.5 * delta_t * ( (r-q) * j - sig_j_square)\n",
    "    b = 1 + delta_t * (sig_j_square + r)\n",
    "    c = -0.5 * delta_t * ( (r-q) * j + sig_j_square)\n",
    "    return a, b, c\n",
    "\n",
    "\n",
    "def get_coeff(M):\n",
    "    matrix = np.matrix(np.array([0.0]*(M-1)*(M-1)).reshape((M-1, M-1)))\n",
    "    a1, b1, c1 = get_diff(1)\n",
    "    am_1, bm_1, cm_1 = get_diff(M - 1)\n",
    "    \n",
    "    matrix[0,0] = b1\n",
    "    matrix[0,1] = c1\n",
    "    \n",
    "    matrix[M-2, M-3] = am_1\n",
    "    matrix[M-2, M-2] = bm_1\n",
    "    \n",
    "    for i in range(2, M-1):\n",
    "        a, b, c = get_diff(i)\n",
    "        matrix[i-1, i-2] = a\n",
    "        matrix[i-1, i-1] = b\n",
    "        matrix[i-1, i] = c    \n",
    "    return matrix"
   ]
  },
  {
   "cell_type": "code",
   "execution_count": 100,
   "id": "40d1b62d-9317-412e-a374-239975b1f676",
   "metadata": {},
   "outputs": [],
   "source": [
    "def AM(signal, M):\n",
    "    if signal == \"call\":\n",
    "        f_matrix = get_call(M, K, delta_s)\n",
    "    elif signal == \"put\":\n",
    "        f_matrix = get_put(M, K, delta_s)\n",
    "    \n",
    "    coeff = get_coeff(M)\n",
    "    inverse_coeff = np.linalg.inv(coeff)\n",
    "\n",
    "    for i in range(M, 0, -1):  # Starting from the bottom row of the matrix\n",
    "        Fi_1 = f_matrix[i, 1:M]\n",
    "        Fi = inverse_coeff * Fi_1.reshape((M-1, 1))  # take the product of inverse_coeff and F_{i+1} to get F_i\n",
    "        Fi = list(np.array(Fi.reshape(1, M-1))[0]) \n",
    "        for j in range(0, M-1):\n",
    "            if signal == \"call\":\n",
    "                Fi[j] = np.maximum(Fi[j], ((j+1) * delta_s - K))  # early exercise condition for call option\n",
    "            elif signal == \"put\":\n",
    "                Fi[j] = np.maximum(Fi[j], (K - ((j+1) * delta_s)))  # early exercise condition for put option\n",
    "        \n",
    "        f_matrix[i-1, 1:M] = Fi  # Load the row F_i through calculation to the top of F_{i+1}\n",
    "    \n",
    "    i = int(np.round(S / delta_s, 0))  # Return the estimated option price corresponding to the current stock price\n",
    "    return f_matrix[0, i]\n",
    "\n",
    "\n",
    "def EUR(signal, M):\n",
    "    if signal == \"call\":\n",
    "        f_matrix = get_call(M, K, delta_s)\n",
    "    elif signal == \"put\":\n",
    "        f_matrix = get_put(M, K, delta_s)\n",
    "    \n",
    "    coeff = get_coeff(M)\n",
    "    inverse_coeff = np.linalg.inv(coeff)\n",
    "\n",
    "    for i in range(M, 0, -1):  # Starting from the buttom row of the matrix\n",
    "            Fi_1 = f_matrix[i, 1:M]\n",
    "            Fi = inverse_coeff * Fi_1.reshape((M-1, 1))  # take the product of inverse_coeff and F_{i+1} to get F_i\n",
    "            Fi = list(np.array(Fi.reshape(1, M-1))[0]) \n",
    "            f_matrix[i-1, 1:M] = Fi\n",
    "    i = np.round(S/delta_s, 0)  # Return the estimated option price corresponding to the current stock price\n",
    "    \n",
    "    return f_matrix[0, int(i)]"
   ]
  },
  {
   "cell_type": "code",
   "execution_count": 99,
   "id": "76b626da-3c4c-479c-bcdd-b968dea4a6a0",
   "metadata": {},
   "outputs": [
    {
     "name": "stderr",
     "output_type": "stream",
     "text": [
      "100%|██████████████████████████████████████| 5000/5000 [00:48<00:00, 103.29it/s]\n",
      "100%|██████████████████████████████████████| 5000/5000 [00:49<00:00, 102.01it/s]"
     ]
    },
    {
     "name": "stdout",
     "output_type": "stream",
     "text": [
      "Approximated prices for call and put American options are 48.661930448236795, 2.503705910937936.\n"
     ]
    },
    {
     "name": "stderr",
     "output_type": "stream",
     "text": [
      "\n"
     ]
    }
   ],
   "source": [
    "eur_put = EUR(\"put\", M)\n",
    "eur_call = EUR(\"call\", M)\n",
    "am_put = AM(\"put\", M)\n",
    "am_call = AM(\"call\", M)\n",
    "print(f'Approximated prices for call and put European options are {eur_call}, {eur_put}.')\n",
    "print(f'Approximated prices for call and put American options are {am_call}, {am_put}.')"
   ]
  },
  {
   "cell_type": "markdown",
   "id": "8fe0fd38-4ab5-43d5-86de-0bee18cd6590",
   "metadata": {},
   "source": [
    "## Crank-Nicolson Method"
   ]
  },
  {
   "cell_type": "markdown",
   "id": "ba7046c5-8e48-4a13-8996-7ac5327b0809",
   "metadata": {},
   "source": [
    "#### Crank-Nicolson method is more stable than the explicit method and quickly converges to the solution.\n",
    "#### Derivative terms thus become\n",
    "$$\\frac{\\partial f}{\\partial S_t} = \\frac{f_{i, j+1} - f_{i, j-1}}{2 \\Delta S_t} \\Rightarrow \\frac{\\partial f}{\\partial S_t} \\approx \\frac{1}{2} \\left( \\frac{f_{i+1, j+1} - f_{i+1, j-1}}{2\\Delta S_t} + \\frac{f_{i, j+1} - f_{i, j-1}}{2\\Delta S_t}\\right)$$\n",
    "$$\\frac{\\partial^2 f}{\\partial S_t^2} = \\frac{f_{i, j+1} - 2f_{i, j} + f_{i, j-1}}{\\Delta S_t ^2} \\Rightarrow \\frac{\\partial^2 f}{\\partial S_t^2} \\approx \\frac{1}{2} \\left( \\frac{f_{i+1, j+1} + f_{i+1, j-1} - 2f_{i+1, j}}{\\Delta S_t^2} + \\frac{f_{i, j+1} + f_{i, j-1} - 2f_{i, j}}{\\Delta S_t^2}\\right)$$"
   ]
  },
  {
   "cell_type": "markdown",
   "id": "d793d28e-c120-484f-bfb3-a7af21448d54",
   "metadata": {},
   "source": [
    "#### The equation is thus simplified to \n",
    "$$-\\alpha_j f_{i, j-1} + (1-\\beta_j)f_{i, j} - \\gamma_j f_{i, j+1} = \\alpha_j f_{i+1, j-1} + (1+\\beta_j)f_{i+1, j} + \\gamma_j f_{i+1, j+1}$$\n",
    "#### where\n",
    "$$\\alpha_j = \\frac{\\Delta t}{4}(\\sigma^2j^2 - rj)$$\n",
    "$$\\beta_j = -\\frac{\\Delta t}{2}(\\sigma^2j^2 + r)$$\n",
    "$$\\gamma_j = \\frac{\\Delta t}{4}(\\sigma^2j^2 + rj)$$"
   ]
  },
  {
   "cell_type": "markdown",
   "id": "be273353-6ec0-4ad7-96ac-49255cd6b3e1",
   "metadata": {},
   "source": [
    "#### The matrix form thus become\n",
    "$$M_1f_i = M_2f_{i+1} + b$$\n",
    "#### where $f_i$ and $b$ are vectors of length $M-1$\n",
    "$$f_i = \\left[f_{i, 1}, f_{i, 2}, ..., f_{i, M-1}\\right]^T$$\n",
    "$$b = \\left[\\alpha_1(f_{i, 0} + f_{i+1, 0}, 0, ..., 0, \\gamma_{M-1}(f_{i, M} + f_{i+1, M})\\right]^T$$\n",
    "#### and $M_1$, $M_2$ are matrix of dimensions $(M-1) \\times (M-2)$.\n",
    "$$ M_1 = \\begin{bmatrix}\n",
    "1-\\beta_1 & -\\gamma_1 & 0 & ... & 0 \\\\\n",
    "-\\alpha_2 & 1-\\beta_2 & -\\gamma_2 & ... & 0 \\\\\n",
    "0 & -\\alpha 3 & ... & ... & ... \\\\\n",
    "... & ... & ... & 1-\\beta_{M-2} & -\\gamma_{M-2} \\\\\n",
    "0 & 0 & ... & -\\alpha_{M-1} & 1-\\beta_{M-1} \n",
    "\\end{bmatrix}  $$\n",
    "$$ M_2 = \\begin{bmatrix}\n",
    "1+\\beta_1 & \\gamma_1 & 0 & ... & 0 \\\\\n",
    "\\alpha_2 & 1+\\beta_2 & \\gamma_2 & ... & 0 \\\\\n",
    "0 & \\alpha 3 & ... & ... & ... \\\\\n",
    "... & ... & ... & 1+\\beta_{M-2} & \\gamma_{M-2} \\\\\n",
    "0 & 0 & ... & \\alpha_{M-1} & 1+\\beta_{M-1} \n",
    "\\end{bmatrix}  $$\n",
    "#### Thus, the iteration becomes\n",
    "$$f_i = M_1^{-1}M_2f_{i+1} + M_1^{-1}b$$"
   ]
  },
  {
   "cell_type": "code",
   "execution_count": 94,
   "id": "0f0329dc-4f48-4a30-bf13-d332c980e963",
   "metadata": {},
   "outputs": [],
   "source": [
    "def get_diff_cn(j, sig=0.4):\n",
    "    sig_j_square = (sig * j) **2 #Here we have (sigma^2 * j^2)\n",
    "    a = (delta_t / 4) * (sig_j_square - r*j)\n",
    "    b = (-delta_t / 2) * (sig_j_square + r)\n",
    "    c = (delta_t / 4) * (sig_j_square + r*j)\n",
    "    return a, b, c\n",
    "\n",
    "\n",
    "def get_coeff_1(M):\n",
    "    matrix = np.matrix(np.array([0.0]*(M-1)*(M-1)).reshape((M-1, M-1)))\n",
    "    a1, b1, c1 = get_diff_cn(1)\n",
    "    am_1, bm_1, cm_1 = get_diff_cn(M - 1)\n",
    "    \n",
    "    matrix[0,0] = 1 - b1\n",
    "    matrix[0,1] = -c1\n",
    "\n",
    "    matrix[M-2, M-3] = -am_1\n",
    "    matrix[M-2, M-2] = 1-bm_1\n",
    "    \n",
    "    for i in range(2, M-1):\n",
    "        a, b, c = get_diff_cn(i)\n",
    "        matrix[i-1, i-2] = -a\n",
    "        matrix[i-1, i-1] = 1-b\n",
    "        matrix[i-1, i] = -c    \n",
    "    return matrix\n",
    "\n",
    "def get_coeff_2(M):\n",
    "    matrix = np.matrix(np.array([0.0]*(M-1)*(M-1)).reshape((M-1, M-1)))\n",
    "    a1, b1, c1 = get_diff_cn(1)\n",
    "    am_1, bm_1, cm_1 = get_diff_cn(M - 1)\n",
    "    \n",
    "    matrix[0,0] = 1 + b1\n",
    "    matrix[0,1] = c1\n",
    "\n",
    "    matrix[M-2, M-3] = am_1\n",
    "    matrix[M-2, M-2] = 1+bm_1\n",
    "    \n",
    "    for i in range(2, M-1):\n",
    "        a, b, c = get_diff_cn(i)\n",
    "        matrix[i-1, i-2] = a\n",
    "        matrix[i-1, i-1] = 1+b\n",
    "        matrix[i-1, i] = c    \n",
    "    return matrix"
   ]
  },
  {
   "cell_type": "code",
   "execution_count": 95,
   "id": "74e1768a-e158-4863-af62-565f2becca3a",
   "metadata": {},
   "outputs": [],
   "source": [
    "def AM_explicit(signal, M):\n",
    "    if signal == \"call\":\n",
    "        f_matrix = get_call(M, K, delta_s)\n",
    "    elif signal == \"put\":\n",
    "        f_matrix = get_put(M, K, delta_s)\n",
    "    \n",
    "    coeff_m1 = get_coeff_1(M)\n",
    "    coeff_m2 = get_coeff_2(M)\n",
    "    inverse_m1 = np.linalg.inv(coeff_m1)\n",
    "\n",
    "    for i in range(M, 0, -1):  # Starting from the bottom row of the matrix\n",
    "        b = np.matrix(np.array([0.0]*(M-1)*(1)).reshape((M-1, 1)))\n",
    "        b[0] = get_diff_cn(1)[0] * (f_matrix[i-1, 0] + f_matrix[i, 0])\n",
    "        b[-1] = get_diff_cn(M-1)[2] * (f_matrix[i-1, -1] + f_matrix[i, -1])\n",
    "        Fi_1 = f_matrix[i, 1:M]\n",
    "        Fi = inverse_m1 * (coeff_m2 * Fi_1.reshape((M-1, 1))) + (inverse_m1 * b)\n",
    "        Fi = list(np.array(Fi.reshape(1, M-1))[0])\n",
    "        \n",
    "        for j in range(0, M-1):\n",
    "            if signal == \"call\":\n",
    "                Fi[j] = np.maximum(Fi[j], ((j+1) * delta_s - K))  # early exercise condition for call option\n",
    "            elif signal == \"put\":\n",
    "                Fi[j] = np.maximum(Fi[j], (K - ((j+1) * delta_s)))  # early exercise condition for put option\n",
    "        f_matrix[i-1, 1:M] = Fi  # Load the row F_i through calculation to the top of F_{i+1}\n",
    "    \n",
    "    i = int(np.round(S / delta_s, 0))  # Return the estimated option price corresponding to the current stock price\n",
    "    return f_matrix[0, i]\n",
    "\n",
    "\n",
    "def EUR_explicit(signal, M):\n",
    "    if signal == \"call\":\n",
    "        f_matrix = get_call(M, K, delta_s)\n",
    "    elif signal == \"put\":\n",
    "        f_matrix = get_put(M, K, delta_s)\n",
    "    \n",
    "    coeff_m1 = get_coeff_1(M)\n",
    "    coeff_m2 = get_coeff_2(M)\n",
    "    inverse_m1 = np.linalg.inv(coeff_m1)\n",
    "    \n",
    "    for i in range(M, 0, -1):  # Starting from the buttom row of the matrix\n",
    "            b = np.matrix(np.array([0.0]*(M-1)*(1)).reshape((M-1, 1)))\n",
    "            b[0] = get_diff_cn(1)[0] * (f_matrix[i-1, 0] + f_matrix[i, 0])\n",
    "            b[-1] = get_diff_cn(M-1)[2] * (f_matrix[i-1, -1] + f_matrix[i, -1])\n",
    "            Fi_1 = f_matrix[i, 1:M]\n",
    "            Fi = inverse_m1 * (coeff_m2 * Fi_1.reshape((M-1, 1))) + (inverse_m1 * b)            \n",
    "            Fi = list(np.array(Fi.reshape(1, M-1))[0]) \n",
    "            f_matrix[i-1, 1:M] = Fi\n",
    "    i = np.round(S/delta_s, 0)  # Return the estimated option price corresponding to the current stock price\n",
    "    \n",
    "    return f_matrix[0, int(i)]"
   ]
  },
  {
   "cell_type": "code",
   "execution_count": 96,
   "id": "a2141fc6-820b-417d-b310-ceee05df4906",
   "metadata": {},
   "outputs": [
    {
     "name": "stdout",
     "output_type": "stream",
     "text": [
      "Approximated prices for call and put European options are 48.66186876591688, 2.5034004195340414.\n",
      "Approximated prices for call and put American options are 48.66186876591688, 2.5036473764222396.\n"
     ]
    }
   ],
   "source": [
    "eur_put = EUR_explicit(\"put\", M)\n",
    "eur_call = EUR_explicit(\"call\", M)\n",
    "am_put = AM_explicit(\"put\", M)\n",
    "am_call = AM_explicit(\"call\", M)\n",
    "print(f'Approximated prices for call and put European options are {eur_call}, {eur_put}.')\n",
    "print(f'Approximated prices for call and put American options are {am_call}, {am_put}.')"
   ]
  },
  {
   "cell_type": "markdown",
   "id": "21869670-0738-487a-8604-587dbbb36224",
   "metadata": {},
   "source": [
    "#### The option price of our interest are given above. Then, comparing the numerical solutions with the ones derived from the closed-form formula:\n",
    "$$P_{call} = S_0 N(d_1) - Ke^{-rT}N(d_2)$$\n",
    "$$P_{put} = Ke^{-rT}N(-d_2) - S_0 N(-d_1)$$\n",
    "#### where\n",
    "$$d_1 = \\frac{ln(S_0 / K) + (r+ \\sigma ^2 / 2)T}{\\sigma \\sqrt{T}}$$\n",
    "$$d_2 = \\frac{ln(S_0 / K) + (r - \\sigma^2 / 2)T}{\\sigma \\sqrt{T}} = d_1 - \\sigma \\sqrt{T}$$"
   ]
  },
  {
   "cell_type": "code",
   "execution_count": 254,
   "id": "dd08dd0d-a456-42f4-a28c-85e97f840cd4",
   "metadata": {},
   "outputs": [
    {
     "name": "stdout",
     "output_type": "stream",
     "text": [
      "Prices for call and put options from the closed-form formula are 48.622359389607766, 2.503462928415934.\n"
     ]
    }
   ],
   "source": [
    "from scipy.stats import norm\n",
    "d1 = (np.log(S/K) + (r + 0.5*(sig**2)) * T) / (sig * np.sqrt(T))\n",
    "d2 = d1 - (sig * np.sqrt(T))\n",
    "p_call = (S * norm.cdf(d1)) - (K * np.exp(-r*T) * norm.cdf(d2))\n",
    "p_put = (K * np.exp(-r*T) * norm.cdf(-d2)) - (S * norm.cdf(-d1))\n",
    "print(f'Prices for call and put options from the closed-form formula are {call}, {put}.')"
   ]
  },
  {
   "cell_type": "markdown",
   "id": "cdad6d3a-2685-4c0e-939a-715d217ab398",
   "metadata": {},
   "source": [
    "#### Accordingly, we found the estimated prices derived from two approaches align with each other."
   ]
  },
  {
   "cell_type": "markdown",
   "id": "1d9544ee-9b18-4448-a50a-d0d2e0fd3706",
   "metadata": {},
   "source": [
    "## Monte Carlo Simulation"
   ]
  },
  {
   "cell_type": "markdown",
   "id": "3fce3ec3-4290-4b9a-9497-2c0fa2ee3a2a",
   "metadata": {},
   "source": [
    "#### The movement followed by the underlying market variable in a risk-neutral world remains:\n",
    "$$\\Delta S_t = \\mu S_t \\Delta t + \\sigma S_t \\Delta z$$\n",
    "#### Thus we can write the stepwise expression as,\n",
    "$$S_{t+\\Delta t} - S_t = \\mu S_t \\Delta t + \\sigma S_t \\epsilon \\sqrt{\\Delta t}$$"
   ]
  },
  {
   "cell_type": "markdown",
   "id": "6e70c6d1-455d-4ed9-a651-20923f17c63f",
   "metadata": {},
   "source": [
    "#### Considering the nature of log normality in practice, rewrite the expression of process as,\n",
    "$$ \\Delta \\ln{S_t} = \\left( \\mu - \\frac{\\sigma ^2}{2}\\right) \\Delta t + \\sigma \\Delta z$$\n",
    "#### with its discretized form,\n",
    "$$ \\ln{S_{t+\\Delta t}} - \\ln{S_t} = \\left( \\mu - \\frac{\\sigma ^2}{2} \\right) \\Delta t + \\sigma \\epsilon \\sqrt{\\Delta t}$$\n",
    "$$ S_{t+\\Delta t} = S_t \\exp \\left[ \\left( \\mu - \\frac{\\sigma ^2}{2} \\right) \\Delta t + \\sigma \\epsilon \\sqrt{\\Delta t} \\right]$$\n",
    "#### Alternatively, the option price at maturity is \n",
    "$$ S_{T} = S_t \\exp \\left[ \\left( \\mu - \\frac{\\sigma ^2}{2} \\right) (T -t) + \\sigma \\epsilon \\sqrt{T - t} \\right]$$"
   ]
  },
  {
   "cell_type": "markdown",
   "id": "97239182-4d4c-4551-baac-f11278b6ac03",
   "metadata": {},
   "source": [
    "#### In particular, based on the assumption of a risk-neutral world, the expected mean return $\\mu$ of the underlying asset equals the risk-free rate $r$."
   ]
  },
  {
   "cell_type": "markdown",
   "id": "c0485705-6834-4ff6-9016-d815cd81b5a0",
   "metadata": {},
   "source": [
    "#### To conduct Monte Carlo Simulations, while keeping $\\mu, S_t, \\sigma, T$ constant, we aim at sampling the $\\epsilon ~ N(0,1)$ to get a series of sampled values $S_t$. \n",
    "#### Then, after calculating the expected payoff, either $max(S_t - K, 0)$ or $max(K - S_t, 0)$, and discounting by $exp(-rT)$, the pricing estimation is finished by taking the mean results."
   ]
  },
  {
   "cell_type": "code",
   "execution_count": 164,
   "id": "5eeb4377-0e0e-4e38-bb57-45bcfacfbbea",
   "metadata": {},
   "outputs": [],
   "source": [
    "simulation = 100000 # Number of simulations\n",
    "# Keeping other parameters as usual"
   ]
  },
  {
   "cell_type": "code",
   "execution_count": 167,
   "id": "67e83e95-0e6d-4483-9bb3-9e898520a90e",
   "metadata": {},
   "outputs": [],
   "source": [
    "def calculate_st(S, sig, r, T):\n",
    "    return S * np.exp((r - 0.5 * sig ** 2) * T + sig * np.sqrt(T) * gauss(0.0, 1.0))\n",
    "\n",
    "\n",
    "def payoff(signal, st, K):\n",
    "    if signal == \"call\":\n",
    "        payoff = max(st - K, 0)\n",
    "    else:\n",
    "        payoff = max(K - st, 0)\n",
    "    return payoff\n",
    "\n",
    "\n",
    "def option_pricing(signal, S, sig, r, T, K, simulation):\n",
    "    payoffs = []\n",
    "    discount = np.exp(-r * T)\n",
    "    for i in range(simulation):\n",
    "        st = calculate_st(S, sig, r, T)\n",
    "        payoffs.append(\n",
    "            payoff(signal, st, K)\n",
    "        )\n",
    "    price = discount * np.sum(payoffs) / simulation\n",
    "    return price"
   ]
  },
  {
   "cell_type": "code",
   "execution_count": 168,
   "id": "1fc2c1bb-431c-4a92-964f-28106cbc49e2",
   "metadata": {},
   "outputs": [
    {
     "name": "stdout",
     "output_type": "stream",
     "text": [
      "Approximated prices for call and put options are 48.6195085580708, 2.654746555559286.\n"
     ]
    }
   ],
   "source": [
    "call = option_pricing(\"call\", S, sig, r, T, K, simulation)\n",
    "put = option_pricing(\"put\", S, sig, r, T, K, simulation)\n",
    "print(f'Approximated prices for call and put options are {call}, {put}.')"
   ]
  }
 ],
 "metadata": {
  "kernelspec": {
   "display_name": "Python 3 (ipykernel)",
   "language": "python",
   "name": "python3"
  },
  "language_info": {
   "codemirror_mode": {
    "name": "ipython",
    "version": 3
   },
   "file_extension": ".py",
   "mimetype": "text/x-python",
   "name": "python",
   "nbconvert_exporter": "python",
   "pygments_lexer": "ipython3",
   "version": "3.12.2"
  }
 },
 "nbformat": 4,
 "nbformat_minor": 5
}
