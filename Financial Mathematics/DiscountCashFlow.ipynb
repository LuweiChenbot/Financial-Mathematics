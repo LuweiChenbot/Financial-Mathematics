{
 "cells": [
  {
   "cell_type": "code",
   "execution_count": 18,
   "id": "8d641143-cff3-4d1a-bb6b-704c7556f265",
   "metadata": {},
   "outputs": [],
   "source": [
    "import pandas as pd\n",
    "import numpy as np"
   ]
  },
  {
   "cell_type": "markdown",
   "id": "ea9d412e-ba09-4333-80b8-0ab5d0dda919",
   "metadata": {},
   "source": [
    "    Assume a two-stage Free Cash Flow model. The model breaks down the valuation into two parts: the Growth Phase and the Terminal Value calculation. The Growth Phase is the initial period where the cash flows grows at a non-constant rate. The Terminal Value represents the value of cash flow continuing into perpetuity from the end of the growth phase, growing at a constant rate. "
   ]
  },
  {
   "cell_type": "code",
   "execution_count": 25,
   "id": "08deb170-b1fa-41c1-998f-62ba7f900468",
   "metadata": {},
   "outputs": [
    {
     "data": {
      "text/html": [
       "<div>\n",
       "<style scoped>\n",
       "    .dataframe tbody tr th:only-of-type {\n",
       "        vertical-align: middle;\n",
       "    }\n",
       "\n",
       "    .dataframe tbody tr th {\n",
       "        vertical-align: top;\n",
       "    }\n",
       "\n",
       "    .dataframe thead th {\n",
       "        text-align: right;\n",
       "    }\n",
       "</style>\n",
       "<table border=\"1\" class=\"dataframe\">\n",
       "  <thead>\n",
       "    <tr style=\"text-align: right;\">\n",
       "      <th></th>\n",
       "      <th>Free Cash Flow (FCF)</th>\n",
       "    </tr>\n",
       "    <tr>\n",
       "      <th>Period</th>\n",
       "      <th></th>\n",
       "    </tr>\n",
       "  </thead>\n",
       "  <tbody>\n",
       "    <tr>\n",
       "      <th>2024</th>\n",
       "      <td>100012</td>\n",
       "    </tr>\n",
       "    <tr>\n",
       "      <th>2025</th>\n",
       "      <td>124280</td>\n",
       "    </tr>\n",
       "    <tr>\n",
       "      <th>2026</th>\n",
       "      <td>141894</td>\n",
       "    </tr>\n",
       "    <tr>\n",
       "      <th>2027</th>\n",
       "      <td>163853</td>\n",
       "    </tr>\n",
       "    <tr>\n",
       "      <th>2028</th>\n",
       "      <td>176433</td>\n",
       "    </tr>\n",
       "  </tbody>\n",
       "</table>\n",
       "</div>"
      ],
      "text/plain": [
       "        Free Cash Flow (FCF)\n",
       "Period                      \n",
       "2024                  100012\n",
       "2025                  124280\n",
       "2026                  141894\n",
       "2027                  163853\n",
       "2028                  176433"
      ]
     },
     "execution_count": 25,
     "metadata": {},
     "output_type": "execute_result"
    }
   ],
   "source": [
    "data = {\n",
    "    \"Period\": [\"2024\", \"2025\", \"2026\", \"2027\", \"2028\"],\n",
    "    \"Profit before tax\": [123280, 145960, 170222, 195821, 211089],\n",
    "    \"Net interest income/expense\": [-182, -198, -216, -234, -238],\n",
    "    \"Depreciation & Amortization\": [10336, 11418, 11969, 12821, 13682],\n",
    "    \"EBITDA\": [133798, 157577, 182406, 208876, 225009],\n",
    "    \"Tax\": [18146, 21484, 25055, 28823, 31070],\n",
    "    \"Capital Expenditure\": [-11620, -12718, -13839, -14968, -15267],\n",
    "    \"Change in Net Working Capital\": [-4020, -905, 1619, 1232, 2239],\n",
    "    \"Free Cash Flow (FCF)\": [100012, 124280, 141894, 163853, 176433]\n",
    "}\n",
    "df = pd.DataFrame(data)\n",
    "df.set_index(\"Period\", inplace=True)\n",
    "data_fcf = df[['Free Cash Flow (FCF)']]\n",
    "data_fcf"
   ]
  },
  {
   "cell_type": "markdown",
   "id": "3cad96f7-cac5-41d9-9835-5688ea9d5e7e",
   "metadata": {},
   "source": [
    "    Then, to calculate the Weighted Average Cost of Capital (WACC), we assume the market risk-free rate to as 4.1%, the market excess return as 9.2%, and beta to be 0.9.\n",
    "    Series of parameters, including cost of equity and cost of debt are given as following."
   ]
  },
  {
   "cell_type": "code",
   "execution_count": 36,
   "id": "70a8484f-72c5-4976-92a8-1ac8d187aae8",
   "metadata": {},
   "outputs": [
    {
     "name": "stdout",
     "output_type": "stream",
     "text": [
      "The cost of equity is 0.0869, the after tax cost of debt is 0.03655，WACC为0.08543985000000001。\n"
     ]
    }
   ],
   "source": [
    "# We then define the growth_exit to be five years.\n",
    "growth_exit = 5\n",
    "risk_free_rate = 0.041\n",
    "expected_market_return = 0.092\n",
    "beta = 0.9\n",
    "cost_of_equity = risk_free_rate + beta * (expected_market_return - risk_free_rate)\n",
    "\n",
    "cost_of_debt = 0.043\n",
    "tax_rate = 0.15\n",
    "after_tax_cost_of_debt = cost_of_debt * (1 - tax_rate)\n",
    "\n",
    "debt_ratio = 0.029\n",
    "equity_ratio = 1 - debt_ratio\n",
    "\n",
    "wacc = (cost_of_equity * equity_ratio) + (after_tax_cost_of_debt * debt_ratio)\n",
    "print(f'The cost of equity is {cost_of_equity}, the after tax cost of debt is {after_tax_cost_of_debt}，WACC为{wacc}。')"
   ]
  },
  {
   "cell_type": "markdown",
   "id": "3b5b4e0d-f844-4869-8cb9-a3de1a5447fc",
   "metadata": {},
   "source": [
    "    Then, we discount the cash flows within the growth phase."
   ]
  },
  {
   "cell_type": "code",
   "execution_count": 37,
   "id": "03d4fa18-31c0-4f7f-8952-e01e35fadbbb",
   "metadata": {},
   "outputs": [],
   "source": [
    "discount_factor = []\n",
    "for i in range(1, growth_exit + 1):\n",
    "    discount = [1 / ((1 + wacc) ** i)]\n",
    "    discount_factor.append(discount)"
   ]
  },
  {
   "cell_type": "code",
   "execution_count": 38,
   "id": "6c4e7e2f-3841-461f-b558-fdc073d5169f",
   "metadata": {
    "scrolled": true
   },
   "outputs": [
    {
     "data": {
      "text/html": [
       "<div>\n",
       "<style scoped>\n",
       "    .dataframe tbody tr th:only-of-type {\n",
       "        vertical-align: middle;\n",
       "    }\n",
       "\n",
       "    .dataframe tbody tr th {\n",
       "        vertical-align: top;\n",
       "    }\n",
       "\n",
       "    .dataframe thead th {\n",
       "        text-align: right;\n",
       "    }\n",
       "</style>\n",
       "<table border=\"1\" class=\"dataframe\">\n",
       "  <thead>\n",
       "    <tr style=\"text-align: right;\">\n",
       "      <th></th>\n",
       "      <th>Free Cash Flow (FCF)</th>\n",
       "      <th>Present Value of Free Cash Flow</th>\n",
       "    </tr>\n",
       "    <tr>\n",
       "      <th>Period</th>\n",
       "      <th></th>\n",
       "      <th></th>\n",
       "    </tr>\n",
       "  </thead>\n",
       "  <tbody>\n",
       "    <tr>\n",
       "      <th>2024</th>\n",
       "      <td>100012</td>\n",
       "      <td>92140.0</td>\n",
       "    </tr>\n",
       "    <tr>\n",
       "      <th>2025</th>\n",
       "      <td>124280</td>\n",
       "      <td>105485.0</td>\n",
       "    </tr>\n",
       "    <tr>\n",
       "      <th>2026</th>\n",
       "      <td>141894</td>\n",
       "      <td>110955.0</td>\n",
       "    </tr>\n",
       "    <tr>\n",
       "      <th>2027</th>\n",
       "      <td>163853</td>\n",
       "      <td>118041.0</td>\n",
       "    </tr>\n",
       "    <tr>\n",
       "      <th>2028</th>\n",
       "      <td>176433</td>\n",
       "      <td>117098.0</td>\n",
       "    </tr>\n",
       "  </tbody>\n",
       "</table>\n",
       "</div>"
      ],
      "text/plain": [
       "        Free Cash Flow (FCF)  Present Value of Free Cash Flow\n",
       "Period                                                       \n",
       "2024                  100012                          92140.0\n",
       "2025                  124280                         105485.0\n",
       "2026                  141894                         110955.0\n",
       "2027                  163853                         118041.0\n",
       "2028                  176433                         117098.0"
      ]
     },
     "execution_count": 38,
     "metadata": {},
     "output_type": "execute_result"
    }
   ],
   "source": [
    "discount_factors_array = [factor[0] for factor in discount_factor]\n",
    "df['Present Value of Free Cash Flow'] = (df['Free Cash Flow (FCF)'] * discount_factors_array).round()\n",
    "df_discounted = df[['Free Cash Flow (FCF)','Present Value of Free Cash Flow']]\n",
    "df_discounted"
   ]
  },
  {
   "cell_type": "markdown",
   "id": "4e8ece68-4f19-421c-8e8f-a9f3cbeea0fa",
   "metadata": {},
   "source": [
    "    Then, we deal with the calculation for Terminal Value. The Terminal Value is calculated at the end of the projected period (end of Year 2028) using the last projected discounted free cash flow 117098. Assume the constant perpetuity growth rate is 0.04."
   ]
  },
  {
   "cell_type": "code",
   "execution_count": 43,
   "id": "b7a4ce8a-c91f-4eee-9f2a-7a92f58415fe",
   "metadata": {},
   "outputs": [
    {
     "data": {
      "text/plain": [
       "4387812.019625944"
      ]
     },
     "execution_count": 43,
     "metadata": {},
     "output_type": "execute_result"
    }
   ],
   "source": [
    "perpetuity_rate = 0.04\n",
    "end_of_2028 = df_discounted.iloc[-1, 1]\n",
    "terminal_value = (end_of_2028 * (1 + perpetuity_rate)) / (wacc - perpetuity_rate) \n",
    "terminal_value"
   ]
  },
  {
   "cell_type": "markdown",
   "id": "47af57a2-23c6-42d3-bdfe-ecb968b407e3",
   "metadata": {},
   "source": [
    "    Finally, summing up the cash flows and the terminal value to get an estimate of the company’s value today, based on future cash flow projections and the assumptions used."
   ]
  },
  {
   "cell_type": "code",
   "execution_count": 50,
   "id": "67d0b47b-6060-422f-95d3-cd835288d43f",
   "metadata": {},
   "outputs": [
    {
     "name": "stdout",
     "output_type": "stream",
     "text": [
      "The total present value is 4931531.02\n"
     ]
    }
   ],
   "source": [
    "total_pv = sum(df_discounted['Present Value of Free Cash Flow']) + terminal_value\n",
    "total_pv = round(total_pv, 2)\n",
    "print(f'The total present value is {total_pv}')"
   ]
  }
 ],
 "metadata": {
  "kernelspec": {
   "display_name": "Python 3 (ipykernel)",
   "language": "python",
   "name": "python3"
  },
  "language_info": {
   "codemirror_mode": {
    "name": "ipython",
    "version": 3
   },
   "file_extension": ".py",
   "mimetype": "text/x-python",
   "name": "python",
   "nbconvert_exporter": "python",
   "pygments_lexer": "ipython3",
   "version": "3.12.2"
  }
 },
 "nbformat": 4,
 "nbformat_minor": 5
}
